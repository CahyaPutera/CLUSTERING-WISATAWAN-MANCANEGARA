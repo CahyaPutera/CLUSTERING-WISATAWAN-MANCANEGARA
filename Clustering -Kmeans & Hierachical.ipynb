{
 "cells": [
  {
   "cell_type": "markdown",
   "metadata": {
    "colab_type": "text",
    "id": "AY4WPOWjwrRQ"
   },
   "source": [
    "# CLUSTERING EXERCISE\n",
    "\n",
    "Deskripsi     : Script berikut ini adalah template untuk mengerjakan Homework Data MBA Topik Clustering. Komentar-komentar yang ada di dalamnya bisa Anda jadikan referensi untuk membuat kode sesuai dengan step-step yang sudah dituliskan di dalamnya. \n",
    "\n",
    "Dataset       : Data-Jumlah-Kunjungan-Wisman-Ke-Indonesia-Berdasarkan-Pintu-Masuk-Tahun-2014. \n",
    "\n",
    "https://data.jakarta.go.id/dataset/data-jumlah-kunjungan-wisman-ke-indonesia-berdasarkan-pintu-masuk-di-dki-jakarta/resource/29c551a3-2d18-4130-b3f9-fc414c03a710\n",
    "\n",
    "Referensi     : Buku Fundamental of Machine Learning with Python (by Teguh Wahyono)\n",
    "\n",
    "Curated by    : B. Ari Kuncoro (IYKRA)"
   ]
  },
  {
   "cell_type": "markdown",
   "metadata": {
    "colab_type": "text",
    "id": "qzJfWclJwrRT"
   },
   "source": [
    "## LATAR BELAKANG\n",
    "\n",
    "Pemerintah Indonesia ingin mengetahui prioritas pembangunan dan penempatan tenaga kerja di bidang pariwisata. Untuk itu, mereka ingin mengelompokkan gerbang pintu masuk wisatawan mancanegara berdasarkan jumlah wisman yang berkunjung ke Indonesia.\n",
    "\n",
    "\n",
    "## Bagaimana cara melakukan clustering?\n",
    "\n",
    "> Langkah pertama yang mesti kita lakukan adalah dengan memanggil library atau pustaka yang dibutuhkan, yaitu matplotlib (plt) gunakan , numpy (np), pandas (pd), dan sklearn (khususnya sklearn.cluster, KMeans). "
   ]
  },
  {
   "cell_type": "markdown",
   "metadata": {},
   "source": [
    "## IMPORT LIBRARIES"
   ]
  },
  {
   "cell_type": "code",
   "execution_count": 1,
   "metadata": {
    "colab": {},
    "colab_type": "code",
    "id": "MjKoq5n2wrRU"
   },
   "outputs": [],
   "source": [
    "# Step 1. Memanggil Library yang dibutuhkan \n",
    "\n",
    "# Write your code here! \n",
    "\n",
    "# Library essential\n",
    "\n",
    "import numpy as np\n",
    "import pandas as pd\n",
    "import matplotlib.pyplot as plt\n",
    "import itertools\n",
    "import seaborn as sns\n",
    "sns.set_style('darkgrid')\n",
    "\n",
    "# Library untuk Kmeans Clustering\n",
    "\n",
    "from sklearn.cluster import KMeans\n",
    "\n",
    "# Library untuk Hierarchical Clustering / Agglomerative Clustering\n",
    "\n",
    "from sklearn.cluster import AgglomerativeClustering\n",
    "import scipy.cluster.hierarchy as sch\n",
    "\n",
    "# Library untuk membuat Similarity Matrix \n",
    "\n",
    "from scipy.spatial.distance import cdist\n",
    "\n",
    "# Library untuk DB Index untuk mengukur hasil clustering\n",
    "\n",
    "from sklearn import datasets \n",
    "from sklearn.cluster import KMeans \n",
    "from sklearn.metrics import davies_bouldin_score\n",
    "\n",
    "\n",
    "# Catatan: Sebaiknya juga gunakan command %matplotlib inline\n",
    "# %matplotlib inline sets the backend of matplotlib to the 'inline' backend"
   ]
  },
  {
   "cell_type": "markdown",
   "metadata": {
    "colab_type": "text",
    "id": "AIYXjh_vwrRg"
   },
   "source": [
    "> Langkah kedua adalah memanggil Dataset."
   ]
  },
  {
   "cell_type": "markdown",
   "metadata": {},
   "source": [
    "## OVERVIEW"
   ]
  },
  {
   "cell_type": "code",
   "execution_count": 2,
   "metadata": {
    "colab": {},
    "colab_type": "code",
    "id": "h78k8Bx7wrRh"
   },
   "outputs": [],
   "source": [
    "# Step 2. Memanggil dataset : 'dataset/gaji_pengeluaran.csv'\n",
    "\n",
    "# Write your code here! \n",
    "df_data = pd.read_csv('dataset/Data-Jumlah-Kunjungan-Wisman-Ke-Indonesia-Berdasarkan-Pintu-Masuk-Tahun-2014.csv')"
   ]
  },
  {
   "cell_type": "code",
   "execution_count": 3,
   "metadata": {
    "colab": {},
    "colab_type": "code",
    "id": "qWosWBfAwrRm"
   },
   "outputs": [
    {
     "data": {
      "text/html": [
       "<div>\n",
       "<style scoped>\n",
       "    .dataframe tbody tr th:only-of-type {\n",
       "        vertical-align: middle;\n",
       "    }\n",
       "\n",
       "    .dataframe tbody tr th {\n",
       "        vertical-align: top;\n",
       "    }\n",
       "\n",
       "    .dataframe thead th {\n",
       "        text-align: right;\n",
       "    }\n",
       "</style>\n",
       "<table border=\"1\" class=\"dataframe\">\n",
       "  <thead>\n",
       "    <tr style=\"text-align: right;\">\n",
       "      <th></th>\n",
       "      <th>pintu_masuk</th>\n",
       "      <th>januari</th>\n",
       "      <th>februari</th>\n",
       "      <th>maret</th>\n",
       "      <th>april</th>\n",
       "      <th>mei</th>\n",
       "      <th>juni</th>\n",
       "      <th>juli</th>\n",
       "      <th>agustus</th>\n",
       "      <th>september</th>\n",
       "      <th>oktober</th>\n",
       "      <th>november</th>\n",
       "      <th>desember</th>\n",
       "    </tr>\n",
       "  </thead>\n",
       "  <tbody>\n",
       "    <tr>\n",
       "      <th>0</th>\n",
       "      <td>Soekarno-Hatta</td>\n",
       "      <td>187123.0</td>\n",
       "      <td>180362.0</td>\n",
       "      <td>194720.0</td>\n",
       "      <td>180787.0</td>\n",
       "      <td>184534.0</td>\n",
       "      <td>208624.0</td>\n",
       "      <td>169135.0</td>\n",
       "      <td>218903.0</td>\n",
       "      <td>174169.0</td>\n",
       "      <td>177274.0</td>\n",
       "      <td>180208.0</td>\n",
       "      <td>190598.0</td>\n",
       "    </tr>\n",
       "    <tr>\n",
       "      <th>1</th>\n",
       "      <td>Ngurah Rai</td>\n",
       "      <td>278685.0</td>\n",
       "      <td>269367.0</td>\n",
       "      <td>268418.0</td>\n",
       "      <td>277925.0</td>\n",
       "      <td>285965.0</td>\n",
       "      <td>329654.0</td>\n",
       "      <td>358907.0</td>\n",
       "      <td>336628.0</td>\n",
       "      <td>352017.0</td>\n",
       "      <td>339200.0</td>\n",
       "      <td>293858.0</td>\n",
       "      <td>341111.0</td>\n",
       "    </tr>\n",
       "    <tr>\n",
       "      <th>2</th>\n",
       "      <td>Kualanamu Int'.</td>\n",
       "      <td>19029.0</td>\n",
       "      <td>17780.0</td>\n",
       "      <td>18493.0</td>\n",
       "      <td>15956.0</td>\n",
       "      <td>19781.0</td>\n",
       "      <td>19376.0</td>\n",
       "      <td>16579.0</td>\n",
       "      <td>16901.0</td>\n",
       "      <td>17792.0</td>\n",
       "      <td>20946.0</td>\n",
       "      <td>22848.0</td>\n",
       "      <td>29243.0</td>\n",
       "    </tr>\n",
       "    <tr>\n",
       "      <th>3</th>\n",
       "      <td>Batam</td>\n",
       "      <td>119054.0</td>\n",
       "      <td>97445.0</td>\n",
       "      <td>122019.0</td>\n",
       "      <td>111929.0</td>\n",
       "      <td>115323.0</td>\n",
       "      <td>140218.0</td>\n",
       "      <td>101966.0</td>\n",
       "      <td>111455.0</td>\n",
       "      <td>113090.0</td>\n",
       "      <td>126169.0</td>\n",
       "      <td>123505.0</td>\n",
       "      <td>171907.0</td>\n",
       "    </tr>\n",
       "    <tr>\n",
       "      <th>4</th>\n",
       "      <td>Sam Ratulangi</td>\n",
       "      <td>1694.0</td>\n",
       "      <td>1079.0</td>\n",
       "      <td>1340.0</td>\n",
       "      <td>1079.0</td>\n",
       "      <td>1365.0</td>\n",
       "      <td>1487.0</td>\n",
       "      <td>1652.0</td>\n",
       "      <td>1854.0</td>\n",
       "      <td>1652.0</td>\n",
       "      <td>1642.0</td>\n",
       "      <td>943.0</td>\n",
       "      <td>1492.0</td>\n",
       "    </tr>\n",
       "  </tbody>\n",
       "</table>\n",
       "</div>"
      ],
      "text/plain": [
       "       pintu_masuk   januari  februari     maret     april       mei  \\\n",
       "0   Soekarno-Hatta  187123.0  180362.0  194720.0  180787.0  184534.0   \n",
       "1       Ngurah Rai  278685.0  269367.0  268418.0  277925.0  285965.0   \n",
       "2  Kualanamu Int'.   19029.0   17780.0   18493.0   15956.0   19781.0   \n",
       "3            Batam  119054.0   97445.0  122019.0  111929.0  115323.0   \n",
       "4    Sam Ratulangi    1694.0    1079.0    1340.0    1079.0    1365.0   \n",
       "\n",
       "       juni      juli   agustus  september   oktober  november  desember  \n",
       "0  208624.0  169135.0  218903.0   174169.0  177274.0  180208.0  190598.0  \n",
       "1  329654.0  358907.0  336628.0   352017.0  339200.0  293858.0  341111.0  \n",
       "2   19376.0   16579.0   16901.0    17792.0   20946.0   22848.0   29243.0  \n",
       "3  140218.0  101966.0  111455.0   113090.0  126169.0  123505.0  171907.0  \n",
       "4    1487.0    1652.0    1854.0     1652.0    1642.0     943.0    1492.0  "
      ]
     },
     "execution_count": 3,
     "metadata": {},
     "output_type": "execute_result"
    }
   ],
   "source": [
    "# Menampilkan 5 baris pertama dari dataset \n",
    "\n",
    "# Write your code here! \n",
    "df_data.head()"
   ]
  },
  {
   "cell_type": "markdown",
   "metadata": {},
   "source": [
    "## PREPROCESSING"
   ]
  },
  {
   "cell_type": "markdown",
   "metadata": {},
   "source": [
    "> Selanjutnya drop columns **'pintu_masuk'** sesuai instruksi."
   ]
  },
  {
   "cell_type": "code",
   "execution_count": 4,
   "metadata": {},
   "outputs": [],
   "source": [
    "df = df_data.copy()\n",
    "df = df.drop(columns = 'pintu_masuk')"
   ]
  },
  {
   "cell_type": "code",
   "execution_count": 5,
   "metadata": {},
   "outputs": [
    {
     "data": {
      "text/html": [
       "<div>\n",
       "<style scoped>\n",
       "    .dataframe tbody tr th:only-of-type {\n",
       "        vertical-align: middle;\n",
       "    }\n",
       "\n",
       "    .dataframe tbody tr th {\n",
       "        vertical-align: top;\n",
       "    }\n",
       "\n",
       "    .dataframe thead th {\n",
       "        text-align: right;\n",
       "    }\n",
       "</style>\n",
       "<table border=\"1\" class=\"dataframe\">\n",
       "  <thead>\n",
       "    <tr style=\"text-align: right;\">\n",
       "      <th></th>\n",
       "      <th>januari</th>\n",
       "      <th>februari</th>\n",
       "      <th>maret</th>\n",
       "      <th>april</th>\n",
       "      <th>mei</th>\n",
       "      <th>juni</th>\n",
       "      <th>juli</th>\n",
       "      <th>agustus</th>\n",
       "      <th>september</th>\n",
       "      <th>oktober</th>\n",
       "      <th>november</th>\n",
       "      <th>desember</th>\n",
       "    </tr>\n",
       "  </thead>\n",
       "  <tbody>\n",
       "    <tr>\n",
       "      <th>0</th>\n",
       "      <td>187123.0</td>\n",
       "      <td>180362.0</td>\n",
       "      <td>194720.0</td>\n",
       "      <td>180787.0</td>\n",
       "      <td>184534.0</td>\n",
       "      <td>208624.0</td>\n",
       "      <td>169135.0</td>\n",
       "      <td>218903.0</td>\n",
       "      <td>174169.0</td>\n",
       "      <td>177274.0</td>\n",
       "      <td>180208.0</td>\n",
       "      <td>190598.0</td>\n",
       "    </tr>\n",
       "    <tr>\n",
       "      <th>1</th>\n",
       "      <td>278685.0</td>\n",
       "      <td>269367.0</td>\n",
       "      <td>268418.0</td>\n",
       "      <td>277925.0</td>\n",
       "      <td>285965.0</td>\n",
       "      <td>329654.0</td>\n",
       "      <td>358907.0</td>\n",
       "      <td>336628.0</td>\n",
       "      <td>352017.0</td>\n",
       "      <td>339200.0</td>\n",
       "      <td>293858.0</td>\n",
       "      <td>341111.0</td>\n",
       "    </tr>\n",
       "    <tr>\n",
       "      <th>2</th>\n",
       "      <td>19029.0</td>\n",
       "      <td>17780.0</td>\n",
       "      <td>18493.0</td>\n",
       "      <td>15956.0</td>\n",
       "      <td>19781.0</td>\n",
       "      <td>19376.0</td>\n",
       "      <td>16579.0</td>\n",
       "      <td>16901.0</td>\n",
       "      <td>17792.0</td>\n",
       "      <td>20946.0</td>\n",
       "      <td>22848.0</td>\n",
       "      <td>29243.0</td>\n",
       "    </tr>\n",
       "    <tr>\n",
       "      <th>3</th>\n",
       "      <td>119054.0</td>\n",
       "      <td>97445.0</td>\n",
       "      <td>122019.0</td>\n",
       "      <td>111929.0</td>\n",
       "      <td>115323.0</td>\n",
       "      <td>140218.0</td>\n",
       "      <td>101966.0</td>\n",
       "      <td>111455.0</td>\n",
       "      <td>113090.0</td>\n",
       "      <td>126169.0</td>\n",
       "      <td>123505.0</td>\n",
       "      <td>171907.0</td>\n",
       "    </tr>\n",
       "    <tr>\n",
       "      <th>4</th>\n",
       "      <td>1694.0</td>\n",
       "      <td>1079.0</td>\n",
       "      <td>1340.0</td>\n",
       "      <td>1079.0</td>\n",
       "      <td>1365.0</td>\n",
       "      <td>1487.0</td>\n",
       "      <td>1652.0</td>\n",
       "      <td>1854.0</td>\n",
       "      <td>1652.0</td>\n",
       "      <td>1642.0</td>\n",
       "      <td>943.0</td>\n",
       "      <td>1492.0</td>\n",
       "    </tr>\n",
       "  </tbody>\n",
       "</table>\n",
       "</div>"
      ],
      "text/plain": [
       "    januari  februari     maret     april       mei      juni      juli  \\\n",
       "0  187123.0  180362.0  194720.0  180787.0  184534.0  208624.0  169135.0   \n",
       "1  278685.0  269367.0  268418.0  277925.0  285965.0  329654.0  358907.0   \n",
       "2   19029.0   17780.0   18493.0   15956.0   19781.0   19376.0   16579.0   \n",
       "3  119054.0   97445.0  122019.0  111929.0  115323.0  140218.0  101966.0   \n",
       "4    1694.0    1079.0    1340.0    1079.0    1365.0    1487.0    1652.0   \n",
       "\n",
       "    agustus  september   oktober  november  desember  \n",
       "0  218903.0   174169.0  177274.0  180208.0  190598.0  \n",
       "1  336628.0   352017.0  339200.0  293858.0  341111.0  \n",
       "2   16901.0    17792.0   20946.0   22848.0   29243.0  \n",
       "3  111455.0   113090.0  126169.0  123505.0  171907.0  \n",
       "4    1854.0     1652.0    1642.0     943.0    1492.0  "
      ]
     },
     "execution_count": 5,
     "metadata": {},
     "output_type": "execute_result"
    }
   ],
   "source": [
    "df.head()"
   ]
  },
  {
   "cell_type": "markdown",
   "metadata": {},
   "source": [
    "> Rubah dan kelompokkan ke semester 1 dan semester 2 untuk proses clustering."
   ]
  },
  {
   "cell_type": "code",
   "execution_count": 6,
   "metadata": {},
   "outputs": [],
   "source": [
    "df_smt1 = df[['januari', 'februari', 'maret', 'april', 'mei', 'juni']]\n",
    "df_smt2 = df.drop(df_smt1, axis = 1)"
   ]
  },
  {
   "cell_type": "code",
   "execution_count": 7,
   "metadata": {},
   "outputs": [
    {
     "data": {
      "text/html": [
       "<div>\n",
       "<style scoped>\n",
       "    .dataframe tbody tr th:only-of-type {\n",
       "        vertical-align: middle;\n",
       "    }\n",
       "\n",
       "    .dataframe tbody tr th {\n",
       "        vertical-align: top;\n",
       "    }\n",
       "\n",
       "    .dataframe thead th {\n",
       "        text-align: right;\n",
       "    }\n",
       "</style>\n",
       "<table border=\"1\" class=\"dataframe\">\n",
       "  <thead>\n",
       "    <tr style=\"text-align: right;\">\n",
       "      <th></th>\n",
       "      <th>januari</th>\n",
       "      <th>februari</th>\n",
       "      <th>maret</th>\n",
       "      <th>april</th>\n",
       "      <th>mei</th>\n",
       "      <th>juni</th>\n",
       "    </tr>\n",
       "  </thead>\n",
       "  <tbody>\n",
       "    <tr>\n",
       "      <th>0</th>\n",
       "      <td>187123.0</td>\n",
       "      <td>180362.0</td>\n",
       "      <td>194720.0</td>\n",
       "      <td>180787.0</td>\n",
       "      <td>184534.0</td>\n",
       "      <td>208624.0</td>\n",
       "    </tr>\n",
       "    <tr>\n",
       "      <th>1</th>\n",
       "      <td>278685.0</td>\n",
       "      <td>269367.0</td>\n",
       "      <td>268418.0</td>\n",
       "      <td>277925.0</td>\n",
       "      <td>285965.0</td>\n",
       "      <td>329654.0</td>\n",
       "    </tr>\n",
       "    <tr>\n",
       "      <th>2</th>\n",
       "      <td>19029.0</td>\n",
       "      <td>17780.0</td>\n",
       "      <td>18493.0</td>\n",
       "      <td>15956.0</td>\n",
       "      <td>19781.0</td>\n",
       "      <td>19376.0</td>\n",
       "    </tr>\n",
       "    <tr>\n",
       "      <th>3</th>\n",
       "      <td>119054.0</td>\n",
       "      <td>97445.0</td>\n",
       "      <td>122019.0</td>\n",
       "      <td>111929.0</td>\n",
       "      <td>115323.0</td>\n",
       "      <td>140218.0</td>\n",
       "    </tr>\n",
       "    <tr>\n",
       "      <th>4</th>\n",
       "      <td>1694.0</td>\n",
       "      <td>1079.0</td>\n",
       "      <td>1340.0</td>\n",
       "      <td>1079.0</td>\n",
       "      <td>1365.0</td>\n",
       "      <td>1487.0</td>\n",
       "    </tr>\n",
       "  </tbody>\n",
       "</table>\n",
       "</div>"
      ],
      "text/plain": [
       "    januari  februari     maret     april       mei      juni\n",
       "0  187123.0  180362.0  194720.0  180787.0  184534.0  208624.0\n",
       "1  278685.0  269367.0  268418.0  277925.0  285965.0  329654.0\n",
       "2   19029.0   17780.0   18493.0   15956.0   19781.0   19376.0\n",
       "3  119054.0   97445.0  122019.0  111929.0  115323.0  140218.0\n",
       "4    1694.0    1079.0    1340.0    1079.0    1365.0    1487.0"
      ]
     },
     "execution_count": 7,
     "metadata": {},
     "output_type": "execute_result"
    }
   ],
   "source": [
    "df_smt1.head()"
   ]
  },
  {
   "cell_type": "code",
   "execution_count": 8,
   "metadata": {},
   "outputs": [
    {
     "data": {
      "text/html": [
       "<div>\n",
       "<style scoped>\n",
       "    .dataframe tbody tr th:only-of-type {\n",
       "        vertical-align: middle;\n",
       "    }\n",
       "\n",
       "    .dataframe tbody tr th {\n",
       "        vertical-align: top;\n",
       "    }\n",
       "\n",
       "    .dataframe thead th {\n",
       "        text-align: right;\n",
       "    }\n",
       "</style>\n",
       "<table border=\"1\" class=\"dataframe\">\n",
       "  <thead>\n",
       "    <tr style=\"text-align: right;\">\n",
       "      <th></th>\n",
       "      <th>juli</th>\n",
       "      <th>agustus</th>\n",
       "      <th>september</th>\n",
       "      <th>oktober</th>\n",
       "      <th>november</th>\n",
       "      <th>desember</th>\n",
       "    </tr>\n",
       "  </thead>\n",
       "  <tbody>\n",
       "    <tr>\n",
       "      <th>0</th>\n",
       "      <td>169135.0</td>\n",
       "      <td>218903.0</td>\n",
       "      <td>174169.0</td>\n",
       "      <td>177274.0</td>\n",
       "      <td>180208.0</td>\n",
       "      <td>190598.0</td>\n",
       "    </tr>\n",
       "    <tr>\n",
       "      <th>1</th>\n",
       "      <td>358907.0</td>\n",
       "      <td>336628.0</td>\n",
       "      <td>352017.0</td>\n",
       "      <td>339200.0</td>\n",
       "      <td>293858.0</td>\n",
       "      <td>341111.0</td>\n",
       "    </tr>\n",
       "    <tr>\n",
       "      <th>2</th>\n",
       "      <td>16579.0</td>\n",
       "      <td>16901.0</td>\n",
       "      <td>17792.0</td>\n",
       "      <td>20946.0</td>\n",
       "      <td>22848.0</td>\n",
       "      <td>29243.0</td>\n",
       "    </tr>\n",
       "    <tr>\n",
       "      <th>3</th>\n",
       "      <td>101966.0</td>\n",
       "      <td>111455.0</td>\n",
       "      <td>113090.0</td>\n",
       "      <td>126169.0</td>\n",
       "      <td>123505.0</td>\n",
       "      <td>171907.0</td>\n",
       "    </tr>\n",
       "    <tr>\n",
       "      <th>4</th>\n",
       "      <td>1652.0</td>\n",
       "      <td>1854.0</td>\n",
       "      <td>1652.0</td>\n",
       "      <td>1642.0</td>\n",
       "      <td>943.0</td>\n",
       "      <td>1492.0</td>\n",
       "    </tr>\n",
       "  </tbody>\n",
       "</table>\n",
       "</div>"
      ],
      "text/plain": [
       "       juli   agustus  september   oktober  november  desember\n",
       "0  169135.0  218903.0   174169.0  177274.0  180208.0  190598.0\n",
       "1  358907.0  336628.0   352017.0  339200.0  293858.0  341111.0\n",
       "2   16579.0   16901.0    17792.0   20946.0   22848.0   29243.0\n",
       "3  101966.0  111455.0   113090.0  126169.0  123505.0  171907.0\n",
       "4    1652.0    1854.0     1652.0    1642.0     943.0    1492.0"
      ]
     },
     "execution_count": 8,
     "metadata": {},
     "output_type": "execute_result"
    }
   ],
   "source": [
    "df_smt2.head()"
   ]
  },
  {
   "cell_type": "code",
   "execution_count": 9,
   "metadata": {},
   "outputs": [],
   "source": [
    "# Loop untuk mendapat jumlah total pada semester 1\n",
    "\n",
    "for i in df_smt1:\n",
    "    df['SUM_SMT_1'] = df_smt1.sum(axis = 1)\n",
    "    \n",
    "# Loop untuk mendapat jumlah total pada semester 2\n",
    "\n",
    "for i in df_smt2:\n",
    "    df['SUM_SMT_2'] = df_smt2.sum(axis = 1)"
   ]
  },
  {
   "cell_type": "markdown",
   "metadata": {},
   "source": [
    "> Membuat columns baru yaitu **'SUM_SMT1'** yang merupakan kolom representasi penjumlahan pengunjung wisman pada semester 1, yaitu dari bulan Januari sampai Juni. Dan **'SUM_SMT2'**, representasi dari penjumlahan pengunjung wisman pada semester 2, yaitu dari bulan Juli sampai Desember."
   ]
  },
  {
   "cell_type": "code",
   "execution_count": 10,
   "metadata": {},
   "outputs": [
    {
     "data": {
      "text/html": [
       "<div>\n",
       "<style scoped>\n",
       "    .dataframe tbody tr th:only-of-type {\n",
       "        vertical-align: middle;\n",
       "    }\n",
       "\n",
       "    .dataframe tbody tr th {\n",
       "        vertical-align: top;\n",
       "    }\n",
       "\n",
       "    .dataframe thead th {\n",
       "        text-align: right;\n",
       "    }\n",
       "</style>\n",
       "<table border=\"1\" class=\"dataframe\">\n",
       "  <thead>\n",
       "    <tr style=\"text-align: right;\">\n",
       "      <th></th>\n",
       "      <th>januari</th>\n",
       "      <th>februari</th>\n",
       "      <th>maret</th>\n",
       "      <th>april</th>\n",
       "      <th>mei</th>\n",
       "      <th>juni</th>\n",
       "      <th>juli</th>\n",
       "      <th>agustus</th>\n",
       "      <th>september</th>\n",
       "      <th>oktober</th>\n",
       "      <th>november</th>\n",
       "      <th>desember</th>\n",
       "      <th>SUM_SMT_1</th>\n",
       "      <th>SUM_SMT_2</th>\n",
       "    </tr>\n",
       "  </thead>\n",
       "  <tbody>\n",
       "    <tr>\n",
       "      <th>0</th>\n",
       "      <td>187123.0</td>\n",
       "      <td>180362.0</td>\n",
       "      <td>194720.0</td>\n",
       "      <td>180787.0</td>\n",
       "      <td>184534.0</td>\n",
       "      <td>208624.0</td>\n",
       "      <td>169135.0</td>\n",
       "      <td>218903.0</td>\n",
       "      <td>174169.0</td>\n",
       "      <td>177274.0</td>\n",
       "      <td>180208.0</td>\n",
       "      <td>190598.0</td>\n",
       "      <td>1136150.0</td>\n",
       "      <td>1110287.0</td>\n",
       "    </tr>\n",
       "    <tr>\n",
       "      <th>1</th>\n",
       "      <td>278685.0</td>\n",
       "      <td>269367.0</td>\n",
       "      <td>268418.0</td>\n",
       "      <td>277925.0</td>\n",
       "      <td>285965.0</td>\n",
       "      <td>329654.0</td>\n",
       "      <td>358907.0</td>\n",
       "      <td>336628.0</td>\n",
       "      <td>352017.0</td>\n",
       "      <td>339200.0</td>\n",
       "      <td>293858.0</td>\n",
       "      <td>341111.0</td>\n",
       "      <td>1710014.0</td>\n",
       "      <td>2021721.0</td>\n",
       "    </tr>\n",
       "    <tr>\n",
       "      <th>2</th>\n",
       "      <td>19029.0</td>\n",
       "      <td>17780.0</td>\n",
       "      <td>18493.0</td>\n",
       "      <td>15956.0</td>\n",
       "      <td>19781.0</td>\n",
       "      <td>19376.0</td>\n",
       "      <td>16579.0</td>\n",
       "      <td>16901.0</td>\n",
       "      <td>17792.0</td>\n",
       "      <td>20946.0</td>\n",
       "      <td>22848.0</td>\n",
       "      <td>29243.0</td>\n",
       "      <td>110415.0</td>\n",
       "      <td>124309.0</td>\n",
       "    </tr>\n",
       "    <tr>\n",
       "      <th>3</th>\n",
       "      <td>119054.0</td>\n",
       "      <td>97445.0</td>\n",
       "      <td>122019.0</td>\n",
       "      <td>111929.0</td>\n",
       "      <td>115323.0</td>\n",
       "      <td>140218.0</td>\n",
       "      <td>101966.0</td>\n",
       "      <td>111455.0</td>\n",
       "      <td>113090.0</td>\n",
       "      <td>126169.0</td>\n",
       "      <td>123505.0</td>\n",
       "      <td>171907.0</td>\n",
       "      <td>705988.0</td>\n",
       "      <td>748092.0</td>\n",
       "    </tr>\n",
       "    <tr>\n",
       "      <th>4</th>\n",
       "      <td>1694.0</td>\n",
       "      <td>1079.0</td>\n",
       "      <td>1340.0</td>\n",
       "      <td>1079.0</td>\n",
       "      <td>1365.0</td>\n",
       "      <td>1487.0</td>\n",
       "      <td>1652.0</td>\n",
       "      <td>1854.0</td>\n",
       "      <td>1652.0</td>\n",
       "      <td>1642.0</td>\n",
       "      <td>943.0</td>\n",
       "      <td>1492.0</td>\n",
       "      <td>8044.0</td>\n",
       "      <td>9235.0</td>\n",
       "    </tr>\n",
       "  </tbody>\n",
       "</table>\n",
       "</div>"
      ],
      "text/plain": [
       "    januari  februari     maret     april       mei      juni      juli  \\\n",
       "0  187123.0  180362.0  194720.0  180787.0  184534.0  208624.0  169135.0   \n",
       "1  278685.0  269367.0  268418.0  277925.0  285965.0  329654.0  358907.0   \n",
       "2   19029.0   17780.0   18493.0   15956.0   19781.0   19376.0   16579.0   \n",
       "3  119054.0   97445.0  122019.0  111929.0  115323.0  140218.0  101966.0   \n",
       "4    1694.0    1079.0    1340.0    1079.0    1365.0    1487.0    1652.0   \n",
       "\n",
       "    agustus  september   oktober  november  desember  SUM_SMT_1  SUM_SMT_2  \n",
       "0  218903.0   174169.0  177274.0  180208.0  190598.0  1136150.0  1110287.0  \n",
       "1  336628.0   352017.0  339200.0  293858.0  341111.0  1710014.0  2021721.0  \n",
       "2   16901.0    17792.0   20946.0   22848.0   29243.0   110415.0   124309.0  \n",
       "3  111455.0   113090.0  126169.0  123505.0  171907.0   705988.0   748092.0  \n",
       "4    1854.0     1652.0    1642.0     943.0    1492.0     8044.0     9235.0  "
      ]
     },
     "execution_count": 10,
     "metadata": {},
     "output_type": "execute_result"
    }
   ],
   "source": [
    "df.head()"
   ]
  },
  {
   "cell_type": "code",
   "execution_count": 11,
   "metadata": {},
   "outputs": [],
   "source": [
    "df_new = pd.concat([df['SUM_SMT_1'], df['SUM_SMT_2']], axis =1)"
   ]
  },
  {
   "cell_type": "code",
   "execution_count": 12,
   "metadata": {},
   "outputs": [
    {
     "data": {
      "text/html": [
       "<div>\n",
       "<style scoped>\n",
       "    .dataframe tbody tr th:only-of-type {\n",
       "        vertical-align: middle;\n",
       "    }\n",
       "\n",
       "    .dataframe tbody tr th {\n",
       "        vertical-align: top;\n",
       "    }\n",
       "\n",
       "    .dataframe thead th {\n",
       "        text-align: right;\n",
       "    }\n",
       "</style>\n",
       "<table border=\"1\" class=\"dataframe\">\n",
       "  <thead>\n",
       "    <tr style=\"text-align: right;\">\n",
       "      <th></th>\n",
       "      <th>SUM_SMT_1</th>\n",
       "      <th>SUM_SMT_2</th>\n",
       "    </tr>\n",
       "  </thead>\n",
       "  <tbody>\n",
       "    <tr>\n",
       "      <th>0</th>\n",
       "      <td>1136150.0</td>\n",
       "      <td>1110287.0</td>\n",
       "    </tr>\n",
       "    <tr>\n",
       "      <th>1</th>\n",
       "      <td>1710014.0</td>\n",
       "      <td>2021721.0</td>\n",
       "    </tr>\n",
       "    <tr>\n",
       "      <th>2</th>\n",
       "      <td>110415.0</td>\n",
       "      <td>124309.0</td>\n",
       "    </tr>\n",
       "    <tr>\n",
       "      <th>3</th>\n",
       "      <td>705988.0</td>\n",
       "      <td>748092.0</td>\n",
       "    </tr>\n",
       "    <tr>\n",
       "      <th>4</th>\n",
       "      <td>8044.0</td>\n",
       "      <td>9235.0</td>\n",
       "    </tr>\n",
       "  </tbody>\n",
       "</table>\n",
       "</div>"
      ],
      "text/plain": [
       "   SUM_SMT_1  SUM_SMT_2\n",
       "0  1136150.0  1110287.0\n",
       "1  1710014.0  2021721.0\n",
       "2   110415.0   124309.0\n",
       "3   705988.0   748092.0\n",
       "4     8044.0     9235.0"
      ]
     },
     "execution_count": 12,
     "metadata": {},
     "output_type": "execute_result"
    }
   ],
   "source": [
    "df_new.head()"
   ]
  },
  {
   "cell_type": "markdown",
   "metadata": {
    "colab_type": "text",
    "id": "cKmIW7czwrRq"
   },
   "source": [
    "> Langkah ketiga adalah dengan melakukan konversi dataset ke data array. "
   ]
  },
  {
   "cell_type": "code",
   "execution_count": 13,
   "metadata": {
    "colab": {},
    "colab_type": "code",
    "id": "kTrLiqfswrRt"
   },
   "outputs": [],
   "source": [
    "# Step 3. Konversi Dataset ke Data Array, assign sebagai X \n",
    "\n",
    "# Write your code here!\n",
    "\n",
    "X = np.asarray(df_new)"
   ]
  },
  {
   "cell_type": "code",
   "execution_count": 14,
   "metadata": {},
   "outputs": [
    {
     "data": {
      "text/plain": [
       "array([[1136150., 1110287.],\n",
       "       [1710014., 2021721.],\n",
       "       [ 110415.,  124309.],\n",
       "       [ 705988.,  748092.],\n",
       "       [   8044.,    9235.],\n",
       "       [ 110251.,  106942.],\n",
       "       [   9761.,   12703.],\n",
       "       [   6454.,    6457.],\n",
       "       [  24981.,   25215.],\n",
       "       [  34798.,   30143.],\n",
       "       [  49466.,   48206.],\n",
       "       [  33937.,   35944.],\n",
       "       [   7578.,    8135.],\n",
       "       [   6901.,    6255.],\n",
       "       [  13302.,   14080.],\n",
       "       [  46530.,   42626.],\n",
       "       [  97257.,   83135.],\n",
       "       [ 158186.,  162675.],\n",
       "       [  52088.,   48694.],\n",
       "       [ 229421.,  239005.]])"
      ]
     },
     "execution_count": 14,
     "metadata": {},
     "output_type": "execute_result"
    }
   ],
   "source": [
    "X"
   ]
  },
  {
   "cell_type": "markdown",
   "metadata": {
    "colab_type": "text",
    "id": "bc0CsMGbwrR0"
   },
   "source": [
    "> Langkah keempat adalah menampilkan Data Array ke dalam Scatter plot."
   ]
  },
  {
   "cell_type": "code",
   "execution_count": 15,
   "metadata": {
    "colab": {},
    "colab_type": "code",
    "id": "4QrwrZ8_wrR2"
   },
   "outputs": [
    {
     "data": {
      "text/plain": [
       "Text(0.5, 1.0, 'GRAFIK TOTAL PENGUNJUNG WISMAN PER TAHUN')"
      ]
     },
     "execution_count": 15,
     "metadata": {},
     "output_type": "execute_result"
    },
    {
     "data": {
      "image/png": "[encoded data removed]",
      "text/plain": [
       "<Figure size 720x432 with 1 Axes>"
      ]
     },
     "metadata": {},
     "output_type": "display_data"
    }
   ],
   "source": [
    "## Step 4. Menampilkan data ke dalam grafik scatterplot \n",
    "\n",
    "# Referensi, just uncomment this section: \n",
    "plt.figure(figsize = (10,6))\n",
    "plt.scatter(X[:,0],X[:,1], label = 'True Position')\n",
    "plt.xlabel('Total Pengunjung Wisman Semester 1')\n",
    "plt.ylabel('Total Pengunjung Wisman Semester 2')\n",
    "plt.title('GRAFIK TOTAL PENGUNJUNG WISMAN PER TAHUN')"
   ]
  },
  {
   "cell_type": "markdown",
   "metadata": {},
   "source": [
    "## MODELLING"
   ]
  },
  {
   "cell_type": "markdown",
   "metadata": {},
   "source": [
    "### K-MEANS CLUSTERING"
   ]
  },
  {
   "cell_type": "markdown",
   "metadata": {
    "colab_type": "text",
    "id": "lzdmKD_6wrR7"
   },
   "source": [
    "> Langkah kelima adalah membuat **Scree plot** dan aktivasi **K-Means**."
   ]
  },
  {
   "cell_type": "code",
   "execution_count": 16,
   "metadata": {
    "colab": {},
    "colab_type": "code",
    "id": "esDb-A2GwrR-"
   },
   "outputs": [
    {
     "data": {
      "image/png": "[encoded data removed]",
      "text/plain": [
       "<Figure size 720x432 with 1 Axes>"
      ]
     },
     "metadata": {},
     "output_type": "display_data"
    }
   ],
   "source": [
    "# Step 5a: Membuat Scree Plot \n",
    "\n",
    "# Reference: Just uncomment this script \n",
    "\n",
    "Sum_of_squared_distances = []\n",
    "K = range(1,15) # Range of 1 to 15\n",
    "for k in K:\n",
    "    model = KMeans(n_clusters = k, random_state = 42)\n",
    "    model.fit(X)\n",
    "    Sum_of_squared_distances.append(model.inertia_)\n",
    "    \n",
    "plt.figure(figsize = (10,6))\n",
    "plt.plot(K, Sum_of_squared_distances, marker='o')\n",
    "plt.xlabel('K-value')\n",
    "plt.ylabel('Sum of Squared Distances')\n",
    "plt.title('ELBOW METHOD FOR OPTIMAL K')\n",
    "plt.plot(K[2], Sum_of_squared_distances[2], 'ro')\n",
    "plt.show()"
   ]
  },
  {
   "cell_type": "markdown",
   "metadata": {},
   "source": [
    "> K-value terbaik menunjukkan pada nilai 3. Artinya data akan di bagi menjadi 3 clusters."
   ]
  },
  {
   "cell_type": "code",
   "execution_count": 17,
   "metadata": {
    "colab": {},
    "colab_type": "code",
    "id": "hInkZIsAwrSN"
   },
   "outputs": [
    {
     "data": {
      "text/plain": [
       "KMeans(algorithm='auto', copy_x=True, init='k-means++', max_iter=300,\n",
       "       n_clusters=3, n_init=10, n_jobs=None, precompute_distances='auto',\n",
       "       random_state=42, tol=0.0001, verbose=0)"
      ]
     },
     "execution_count": 17,
     "metadata": {},
     "output_type": "execute_result"
    }
   ],
   "source": [
    "# Step 5b. Melakukan aktivasi algoritma K-Means, \n",
    "# pilih berapa jumlah n_cluster berdasarkan elbow method \n",
    "\n",
    "# Hint: KMeans, km.fit()\n",
    "# Write your code here!\n",
    "\n",
    "kmeans = KMeans(n_clusters=3, random_state = 42)\n",
    "kmeans.fit(X)"
   ]
  },
  {
   "cell_type": "markdown",
   "metadata": {
    "colab_type": "text",
    "id": "qPR3bmlmwrSU"
   },
   "source": [
    "> Langkah keenam adalah menampilkan nilai **centroid** dan label data point."
   ]
  },
  {
   "cell_type": "code",
   "execution_count": 18,
   "metadata": {
    "colab": {},
    "colab_type": "code",
    "id": "qCh-bnmNwrSV"
   },
   "outputs": [
    {
     "name": "stdout",
     "output_type": "stream",
     "text": [
      "[[  58786.47058824   59044.64705882]\n",
      " [ 921069.          929189.5       ]\n",
      " [1710014.         2021721.        ]]\n"
     ]
    }
   ],
   "source": [
    "# Step 6. Menampilkan nilai centroid yang dibangkitkan oleh \n",
    "# algoritma kmeans. Hint: cluster_centers_ \n",
    "\n",
    "# Write your code here! \n",
    "\n",
    "print(kmeans.cluster_centers_)"
   ]
  },
  {
   "cell_type": "code",
   "execution_count": 19,
   "metadata": {
    "colab": {},
    "colab_type": "code",
    "id": "SONZoCvjwrSc"
   },
   "outputs": [
    {
     "name": "stdout",
     "output_type": "stream",
     "text": [
      "[1 2 0 1 0 0 0 0 0 0 0 0 0 0 0 0 0 0 0 0]\n"
     ]
    }
   ],
   "source": [
    "# Checking \n",
    "# Just uncomment the following code and run\n",
    "\n",
    "print(kmeans.labels_)"
   ]
  },
  {
   "cell_type": "markdown",
   "metadata": {
    "colab_type": "text",
    "id": "fRdlGLyRwrSi"
   },
   "source": [
    "> Langkah ketujuh adalah visualisasi hasil clustering."
   ]
  },
  {
   "cell_type": "code",
   "execution_count": 20,
   "metadata": {
    "colab": {},
    "colab_type": "code",
    "id": "Hcft4EVzwrSj"
   },
   "outputs": [
    {
     "data": {
      "image/png": "[encoded data removed]",
      "text/plain": [
       "<Figure size 720x432 with 1 Axes>"
      ]
     },
     "metadata": {},
     "output_type": "display_data"
    }
   ],
   "source": [
    "# Step 7 Visualisasi Hasil \n",
    "\n",
    "# Uncomment and change the labels in the code and run\n",
    "\n",
    "plt.figure(figsize = (10,6))\n",
    "plt.scatter(X[:,0],X[:,1], c=kmeans.labels_, cmap = 'viridis', marker='.')\n",
    "plt.xlabel('Total Pengunjung Wisman Semester 1') # change label!\n",
    "\n",
    "# Change the title \"Grafik Konsumen\", label y axis \"Pengeluaran\" to the appropriate term. \n",
    "\n",
    "plt.ylabel('Total Pengunjung Wisman Semester 2') # change label!\n",
    "plt.title('KMEANS CLUSTERING TOTAL PENGUNJUNG WISMAN PER TAHUN')  # change label!\n",
    "plt.show()  # change label!"
   ]
  },
  {
   "cell_type": "markdown",
   "metadata": {},
   "source": [
    "> Dari grafik terlihat 3 clusters, yaitu **cluster 0**, **cluster 1**, dan terakhir **cluster 2**."
   ]
  },
  {
   "cell_type": "markdown",
   "metadata": {
    "colab_type": "text",
    "id": "OI0_jxFfwrSp"
   },
   "source": [
    "> Langkah kedelapan adalah menampilkan hasil centroid di dalam grafik."
   ]
  },
  {
   "cell_type": "code",
   "execution_count": 21,
   "metadata": {
    "colab": {},
    "colab_type": "code",
    "id": "69B6X9sPwrSq"
   },
   "outputs": [
    {
     "data": {
      "image/png": "[encoded data removed]",
      "text/plain": [
       "<Figure size 720x432 with 1 Axes>"
      ]
     },
     "metadata": {},
     "output_type": "display_data"
    }
   ],
   "source": [
    "# Step 8 Menampilkan hasil centroid di dalam grafik \n",
    "\n",
    "# Uncomment and change the labels for the following code and run\n",
    "\n",
    "plt.figure(figsize = (10,6))\n",
    "plt.scatter(X[:,0],X[:,1], c=kmeans.labels_, cmap='viridis', marker='.')\n",
    "plt.scatter(kmeans.cluster_centers_[:,0],kmeans.cluster_centers_[:,1],color='gray')\n",
    "plt.xlabel('Total Pengunjung Wisman Semester 1')\n",
    "plt.ylabel('Total Pengunjung Wisman Semester 2')\n",
    "plt.title('KMEANS CLUSTERING CENTROID TOTAL PENGUNJUNG WISMAN PER TAHUN')\n",
    "plt.show()"
   ]
  },
  {
   "cell_type": "markdown",
   "metadata": {},
   "source": [
    "> Terlihat centroid pada setiap cluster yang di representasikan dengan warna abu - abu."
   ]
  },
  {
   "cell_type": "code",
   "execution_count": 22,
   "metadata": {
    "colab": {},
    "colab_type": "code",
    "id": "Kv-g4ED0wrSx"
   },
   "outputs": [],
   "source": [
    "# Memasukkan hasil label ke dalam suatu data frame \n",
    "\n",
    "kmean_clustered = pd.DataFrame(X)\n",
    "kmean_clustered['CLUSTER'] = pd.DataFrame(kmeans.labels_)"
   ]
  },
  {
   "cell_type": "code",
   "execution_count": 23,
   "metadata": {},
   "outputs": [],
   "source": [
    "kmean_clustered = kmean_clustered.astype(int).rename(columns={0: 'SUM_SMT1', 1: 'SUM_SMT2'})"
   ]
  },
  {
   "cell_type": "code",
   "execution_count": 24,
   "metadata": {},
   "outputs": [
    {
     "data": {
      "text/html": [
       "<div>\n",
       "<style scoped>\n",
       "    .dataframe tbody tr th:only-of-type {\n",
       "        vertical-align: middle;\n",
       "    }\n",
       "\n",
       "    .dataframe tbody tr th {\n",
       "        vertical-align: top;\n",
       "    }\n",
       "\n",
       "    .dataframe thead th {\n",
       "        text-align: right;\n",
       "    }\n",
       "</style>\n",
       "<table border=\"1\" class=\"dataframe\">\n",
       "  <thead>\n",
       "    <tr style=\"text-align: right;\">\n",
       "      <th></th>\n",
       "      <th>SUM_SMT1</th>\n",
       "      <th>SUM_SMT2</th>\n",
       "      <th>CLUSTER</th>\n",
       "    </tr>\n",
       "  </thead>\n",
       "  <tbody>\n",
       "    <tr>\n",
       "      <th>0</th>\n",
       "      <td>1136150</td>\n",
       "      <td>1110287</td>\n",
       "      <td>1</td>\n",
       "    </tr>\n",
       "    <tr>\n",
       "      <th>1</th>\n",
       "      <td>1710014</td>\n",
       "      <td>2021721</td>\n",
       "      <td>2</td>\n",
       "    </tr>\n",
       "    <tr>\n",
       "      <th>2</th>\n",
       "      <td>110415</td>\n",
       "      <td>124309</td>\n",
       "      <td>0</td>\n",
       "    </tr>\n",
       "    <tr>\n",
       "      <th>3</th>\n",
       "      <td>705988</td>\n",
       "      <td>748092</td>\n",
       "      <td>1</td>\n",
       "    </tr>\n",
       "    <tr>\n",
       "      <th>4</th>\n",
       "      <td>8044</td>\n",
       "      <td>9235</td>\n",
       "      <td>0</td>\n",
       "    </tr>\n",
       "  </tbody>\n",
       "</table>\n",
       "</div>"
      ],
      "text/plain": [
       "   SUM_SMT1  SUM_SMT2  CLUSTER\n",
       "0   1136150   1110287        1\n",
       "1   1710014   2021721        2\n",
       "2    110415    124309        0\n",
       "3    705988    748092        1\n",
       "4      8044      9235        0"
      ]
     },
     "execution_count": 24,
     "metadata": {},
     "output_type": "execute_result"
    }
   ],
   "source": [
    "kmean_clustered.head()"
   ]
  },
  {
   "cell_type": "code",
   "execution_count": 25,
   "metadata": {},
   "outputs": [
    {
     "data": {
      "text/html": [
       "<div>\n",
       "<style scoped>\n",
       "    .dataframe tbody tr th:only-of-type {\n",
       "        vertical-align: middle;\n",
       "    }\n",
       "\n",
       "    .dataframe tbody tr th {\n",
       "        vertical-align: top;\n",
       "    }\n",
       "\n",
       "    .dataframe thead th {\n",
       "        text-align: right;\n",
       "    }\n",
       "</style>\n",
       "<table border=\"1\" class=\"dataframe\">\n",
       "  <thead>\n",
       "    <tr style=\"text-align: right;\">\n",
       "      <th></th>\n",
       "      <th>pintu_masuk</th>\n",
       "      <th>SUM_SMT1</th>\n",
       "      <th>SUM_SMT2</th>\n",
       "      <th>CLUSTER</th>\n",
       "    </tr>\n",
       "  </thead>\n",
       "  <tbody>\n",
       "    <tr>\n",
       "      <th>9</th>\n",
       "      <td>Tanjung Priok</td>\n",
       "      <td>34798</td>\n",
       "      <td>30143</td>\n",
       "      <td>0</td>\n",
       "    </tr>\n",
       "    <tr>\n",
       "      <th>17</th>\n",
       "      <td>Tanjung Uban</td>\n",
       "      <td>158186</td>\n",
       "      <td>162675</td>\n",
       "      <td>0</td>\n",
       "    </tr>\n",
       "    <tr>\n",
       "      <th>16</th>\n",
       "      <td>Husein Sastranegara</td>\n",
       "      <td>97257</td>\n",
       "      <td>83135</td>\n",
       "      <td>0</td>\n",
       "    </tr>\n",
       "    <tr>\n",
       "      <th>15</th>\n",
       "      <td>Adisucipto</td>\n",
       "      <td>46530</td>\n",
       "      <td>42626</td>\n",
       "      <td>0</td>\n",
       "    </tr>\n",
       "    <tr>\n",
       "      <th>14</th>\n",
       "      <td>Sultan Syarif Kasim II</td>\n",
       "      <td>13302</td>\n",
       "      <td>14080</td>\n",
       "      <td>0</td>\n",
       "    </tr>\n",
       "    <tr>\n",
       "      <th>13</th>\n",
       "      <td>Sepinggan</td>\n",
       "      <td>6901</td>\n",
       "      <td>6255</td>\n",
       "      <td>0</td>\n",
       "    </tr>\n",
       "    <tr>\n",
       "      <th>12</th>\n",
       "      <td>Makasar</td>\n",
       "      <td>7578</td>\n",
       "      <td>8135</td>\n",
       "      <td>0</td>\n",
       "    </tr>\n",
       "    <tr>\n",
       "      <th>11</th>\n",
       "      <td>Bandara Int. Lombok</td>\n",
       "      <td>33937</td>\n",
       "      <td>35944</td>\n",
       "      <td>0</td>\n",
       "    </tr>\n",
       "    <tr>\n",
       "      <th>10</th>\n",
       "      <td>Tanjung Pinang</td>\n",
       "      <td>49466</td>\n",
       "      <td>48206</td>\n",
       "      <td>0</td>\n",
       "    </tr>\n",
       "    <tr>\n",
       "      <th>19</th>\n",
       "      <td>Pintu Lainnya</td>\n",
       "      <td>229421</td>\n",
       "      <td>239005</td>\n",
       "      <td>0</td>\n",
       "    </tr>\n",
       "    <tr>\n",
       "      <th>8</th>\n",
       "      <td>Minangkabau</td>\n",
       "      <td>24981</td>\n",
       "      <td>25215</td>\n",
       "      <td>0</td>\n",
       "    </tr>\n",
       "    <tr>\n",
       "      <th>7</th>\n",
       "      <td>Adi Sumarmo</td>\n",
       "      <td>6454</td>\n",
       "      <td>6457</td>\n",
       "      <td>0</td>\n",
       "    </tr>\n",
       "    <tr>\n",
       "      <th>6</th>\n",
       "      <td>Entikong</td>\n",
       "      <td>9761</td>\n",
       "      <td>12703</td>\n",
       "      <td>0</td>\n",
       "    </tr>\n",
       "    <tr>\n",
       "      <th>5</th>\n",
       "      <td>Juanda</td>\n",
       "      <td>110251</td>\n",
       "      <td>106942</td>\n",
       "      <td>0</td>\n",
       "    </tr>\n",
       "    <tr>\n",
       "      <th>4</th>\n",
       "      <td>Sam Ratulangi</td>\n",
       "      <td>8044</td>\n",
       "      <td>9235</td>\n",
       "      <td>0</td>\n",
       "    </tr>\n",
       "    <tr>\n",
       "      <th>2</th>\n",
       "      <td>Kualanamu Int'.</td>\n",
       "      <td>110415</td>\n",
       "      <td>124309</td>\n",
       "      <td>0</td>\n",
       "    </tr>\n",
       "    <tr>\n",
       "      <th>18</th>\n",
       "      <td>Balai Karimun</td>\n",
       "      <td>52088</td>\n",
       "      <td>48694</td>\n",
       "      <td>0</td>\n",
       "    </tr>\n",
       "    <tr>\n",
       "      <th>3</th>\n",
       "      <td>Batam</td>\n",
       "      <td>705988</td>\n",
       "      <td>748092</td>\n",
       "      <td>1</td>\n",
       "    </tr>\n",
       "    <tr>\n",
       "      <th>0</th>\n",
       "      <td>Soekarno-Hatta</td>\n",
       "      <td>1136150</td>\n",
       "      <td>1110287</td>\n",
       "      <td>1</td>\n",
       "    </tr>\n",
       "    <tr>\n",
       "      <th>1</th>\n",
       "      <td>Ngurah Rai</td>\n",
       "      <td>1710014</td>\n",
       "      <td>2021721</td>\n",
       "      <td>2</td>\n",
       "    </tr>\n",
       "  </tbody>\n",
       "</table>\n",
       "</div>"
      ],
      "text/plain": [
       "               pintu_masuk  SUM_SMT1  SUM_SMT2  CLUSTER\n",
       "9            Tanjung Priok     34798     30143        0\n",
       "17            Tanjung Uban    158186    162675        0\n",
       "16     Husein Sastranegara     97257     83135        0\n",
       "15              Adisucipto     46530     42626        0\n",
       "14  Sultan Syarif Kasim II     13302     14080        0\n",
       "13               Sepinggan      6901      6255        0\n",
       "12                 Makasar      7578      8135        0\n",
       "11     Bandara Int. Lombok     33937     35944        0\n",
       "10          Tanjung Pinang     49466     48206        0\n",
       "19           Pintu Lainnya    229421    239005        0\n",
       "8              Minangkabau     24981     25215        0\n",
       "7              Adi Sumarmo      6454      6457        0\n",
       "6                 Entikong      9761     12703        0\n",
       "5                   Juanda    110251    106942        0\n",
       "4            Sam Ratulangi      8044      9235        0\n",
       "2          Kualanamu Int'.    110415    124309        0\n",
       "18           Balai Karimun     52088     48694        0\n",
       "3                    Batam    705988    748092        1\n",
       "0           Soekarno-Hatta   1136150   1110287        1\n",
       "1               Ngurah Rai   1710014   2021721        2"
      ]
     },
     "execution_count": 25,
     "metadata": {},
     "output_type": "execute_result"
    }
   ],
   "source": [
    "pd.concat([df_data['pintu_masuk'], kmean_clustered], axis = 1).sort_values(by = 'CLUSTER')"
   ]
  },
  {
   "cell_type": "code",
   "execution_count": 26,
   "metadata": {},
   "outputs": [
    {
     "name": "stdout",
     "output_type": "stream",
     "text": [
      "Jumlah Kunjungan Semester 1 sebanyak : 4551522 kunjungan\n",
      "Jumlah Kunjungan Semester 2 sebanyak : 4883859 kunjungan\n",
      "Jumlah Selisih Kunjungan tahun 2014  : 332337 kunjungan\n"
     ]
    }
   ],
   "source": [
    "print(f\"Jumlah Kunjungan Semester 1 sebanyak : {(kmean_clustered['SUM_SMT1']).sum()} kunjungan\")\n",
    "print(f\"Jumlah Kunjungan Semester 2 sebanyak : {(kmean_clustered['SUM_SMT2']).sum()} kunjungan\")\n",
    "print(f\"Jumlah Selisih Kunjungan tahun 2014  : {(kmean_clustered['SUM_SMT2']).sum()-(kmean_clustered['SUM_SMT1']).sum()} kunjungan\")"
   ]
  },
  {
   "cell_type": "markdown",
   "metadata": {},
   "source": [
    "> Menggunakan metode **K-Means Clustering** kita dapat mengetahui bahwa terdapat 3 cluster dari gerbang pintu masuk wisatawan mancanegara berdasarkan jumlah wisman yang berkunjung ke Indonesia. **Cluster 0** merupakan cluster dengan jumlah pintu masuk yang cukup banyak, namun memiliki pengunjung wisman yang relatif lebih sedikit di bandingkan cluster yang lain, karena jika dilihat lebih detail, pintu - pintu yang termasuk dalam cluster ini sebagian besar berada di pelabuhan atau kota yang kemungkinan bukan menjadi alternatif dari tujuan wisman ke Indonesia. **Cluster 1** merupakan pintu masuk *Batam* dan bandar udara *Soekarno-Hatta*, yang jika kita perhatikan walaupun cluster ini berisi 2 pintu ini saja, tetapi cluster ini memiliki pengunjung wisman yang cukup jauh di bandingkan pintu - pintu pada cluster sebelumnya, dengan total sekitar 3,7 juta kunjungan wisman pada data tahun 2014 ini. Sedangkan **Cluster 2** berisi pintu masuk dari bandara *Ngurah Rai* di Bali. Sudah jelas jika pintu ini adalah pintu yang mungkin merupakan **pintu gerbang utama** bagi wisman dalam berkunjung ke Indonesia, mungkin karena memang Bali sudah terkenal di seluruh dunia. Insight lebih lanjut lagi dapat kita lihat bahwa kunjungan wisman memang banyak di lakukan pada semester ke 2, yaitu pada bulan Juli sampai Desember, dengan jumlah selisih lebih dari 300 ribu kunjungan total pada semester 2."
   ]
  },
  {
   "cell_type": "markdown",
   "metadata": {},
   "source": [
    "> Artinya dapat di simpulkan sebagian besar wisman yang berkunjung ke Indonesia melewati pintu masuk dari bandara *Ngurah Rai* di Bali. Sehingga jika menjawab pertanyaan pada Latar Belakang masalah di atas, sebaiknya prioritas pembangunan dan penempatan tenaga kerja di bidang pariwisata di fokuskan pada daerah Bali dan sekitarnya. Namun agak sulit untuk di katakan bahwa cluster lainnya tidak di prioritaskan, khususnya pada cluster 0, karena memang sebagian besar kota kunjungan wisman pada cluster 0 ini bukan merupakan daerah pariwisata yang terkenal, atau ada juga pada cluster ini yang merupakan kota kecil yang belum banyak di ketahui yang mungkin dapat menjadi pertimbangan dalam pembangunan untuk meningkatkan nilai jual pariwisata pada daerah sekitar cluster ini."
   ]
  },
  {
   "cell_type": "markdown",
   "metadata": {},
   "source": [
    "### HIERARCHICAL / AGGLOMERATIVE CLUSTERING"
   ]
  },
  {
   "cell_type": "markdown",
   "metadata": {},
   "source": [
    "> Langkah selanjutnya adalah melakukan algoritma **Hierarchical Clustering**."
   ]
  },
  {
   "cell_type": "code",
   "execution_count": 27,
   "metadata": {},
   "outputs": [
    {
     "data": {
      "image/png": "[encoded data removed]",
      "text/plain": [
       "<Figure size 432x288 with 1 Axes>"
      ]
     },
     "metadata": {},
     "output_type": "display_data"
    }
   ],
   "source": [
    "# Membentuk dendogram dengan metode complete \n",
    "\n",
    "dendrogram = sch.dendrogram(sch.linkage(X, method='complete'))"
   ]
  },
  {
   "cell_type": "code",
   "execution_count": 28,
   "metadata": {},
   "outputs": [
    {
     "data": {
      "image/png": "[encoded data removed]",
      "text/plain": [
       "<Figure size 432x288 with 1 Axes>"
      ]
     },
     "metadata": {},
     "output_type": "display_data"
    }
   ],
   "source": [
    "# Membentuk dendogram dengan metode ward \n",
    "\n",
    "dendrogram = sch.dendrogram(sch.linkage(X, method='ward'))"
   ]
  },
  {
   "cell_type": "code",
   "execution_count": 29,
   "metadata": {},
   "outputs": [
    {
     "data": {
      "text/plain": [
       "AgglomerativeClustering(affinity='euclidean', compute_full_tree='auto',\n",
       "                        connectivity=None, distance_threshold=None,\n",
       "                        linkage='ward', memory=None, n_clusters=2)"
      ]
     },
     "execution_count": 29,
     "metadata": {},
     "output_type": "execute_result"
    }
   ],
   "source": [
    "# Melakukan fitting hierarchical clustering \n",
    "\n",
    "agglo = AgglomerativeClustering(n_clusters=2, affinity='euclidean', linkage='ward')\n",
    "agglo.fit(X)"
   ]
  },
  {
   "cell_type": "code",
   "execution_count": 30,
   "metadata": {},
   "outputs": [
    {
     "data": {
      "image/png": "[encoded data removed]",
      "text/plain": [
       "<Figure size 720x432 with 1 Axes>"
      ]
     },
     "metadata": {},
     "output_type": "display_data"
    }
   ],
   "source": [
    "# Plot Data setelah dilakukan hierarchical clustering\n",
    "\n",
    "plt.figure(figsize = (10,6))\n",
    "plt.scatter(X[:,0],X[:,1], c=agglo.labels_, cmap = 'viridis', marker='.')\n",
    "plt.xlabel('Total Pengunjung Wisman Semester 1')\n",
    "plt.ylabel('Total Pengunjung Wisman Semester 2')\n",
    "plt.title('HIERARCHICAL CLUSTERING TOTAL PENGUNJUNG WISMAN PER TAHUN')\n",
    "plt.show()\n",
    "plt.show()"
   ]
  },
  {
   "cell_type": "markdown",
   "metadata": {},
   "source": [
    "> Berbeda dengan **K-Means Clustering**, **Hierarchical Clustering** mengelompokkan data menjadi 2 cluster saja."
   ]
  },
  {
   "cell_type": "code",
   "execution_count": 31,
   "metadata": {
    "colab": {},
    "colab_type": "code",
    "id": "Kv-g4ED0wrSx"
   },
   "outputs": [],
   "source": [
    "# Memasukkan hasil label ke dalam suatu data frame \n",
    "\n",
    "agglo_clustered = pd.DataFrame(X)\n",
    "agglo_clustered['CLUSTER'] = pd.DataFrame(agglo.labels_)"
   ]
  },
  {
   "cell_type": "code",
   "execution_count": 32,
   "metadata": {},
   "outputs": [],
   "source": [
    "agglo_clustered = agglo_clustered.astype(int).rename(columns={0: 'SUM_SMT1', 1: 'SUM_SMT2'})"
   ]
  },
  {
   "cell_type": "code",
   "execution_count": 33,
   "metadata": {},
   "outputs": [
    {
     "data": {
      "text/html": [
       "<div>\n",
       "<style scoped>\n",
       "    .dataframe tbody tr th:only-of-type {\n",
       "        vertical-align: middle;\n",
       "    }\n",
       "\n",
       "    .dataframe tbody tr th {\n",
       "        vertical-align: top;\n",
       "    }\n",
       "\n",
       "    .dataframe thead th {\n",
       "        text-align: right;\n",
       "    }\n",
       "</style>\n",
       "<table border=\"1\" class=\"dataframe\">\n",
       "  <thead>\n",
       "    <tr style=\"text-align: right;\">\n",
       "      <th></th>\n",
       "      <th>SUM_SMT1</th>\n",
       "      <th>SUM_SMT2</th>\n",
       "      <th>CLUSTER</th>\n",
       "    </tr>\n",
       "  </thead>\n",
       "  <tbody>\n",
       "    <tr>\n",
       "      <th>0</th>\n",
       "      <td>1136150</td>\n",
       "      <td>1110287</td>\n",
       "      <td>0</td>\n",
       "    </tr>\n",
       "    <tr>\n",
       "      <th>1</th>\n",
       "      <td>1710014</td>\n",
       "      <td>2021721</td>\n",
       "      <td>0</td>\n",
       "    </tr>\n",
       "    <tr>\n",
       "      <th>2</th>\n",
       "      <td>110415</td>\n",
       "      <td>124309</td>\n",
       "      <td>1</td>\n",
       "    </tr>\n",
       "    <tr>\n",
       "      <th>3</th>\n",
       "      <td>705988</td>\n",
       "      <td>748092</td>\n",
       "      <td>0</td>\n",
       "    </tr>\n",
       "    <tr>\n",
       "      <th>4</th>\n",
       "      <td>8044</td>\n",
       "      <td>9235</td>\n",
       "      <td>1</td>\n",
       "    </tr>\n",
       "  </tbody>\n",
       "</table>\n",
       "</div>"
      ],
      "text/plain": [
       "   SUM_SMT1  SUM_SMT2  CLUSTER\n",
       "0   1136150   1110287        0\n",
       "1   1710014   2021721        0\n",
       "2    110415    124309        1\n",
       "3    705988    748092        0\n",
       "4      8044      9235        1"
      ]
     },
     "execution_count": 33,
     "metadata": {},
     "output_type": "execute_result"
    }
   ],
   "source": [
    "agglo_clustered.head()"
   ]
  },
  {
   "cell_type": "markdown",
   "metadata": {},
   "source": [
    "> Kita dapatkan 2 cluster menggunakan metode ini."
   ]
  },
  {
   "cell_type": "code",
   "execution_count": 34,
   "metadata": {},
   "outputs": [
    {
     "data": {
      "text/html": [
       "<div>\n",
       "<style scoped>\n",
       "    .dataframe tbody tr th:only-of-type {\n",
       "        vertical-align: middle;\n",
       "    }\n",
       "\n",
       "    .dataframe tbody tr th {\n",
       "        vertical-align: top;\n",
       "    }\n",
       "\n",
       "    .dataframe thead th {\n",
       "        text-align: right;\n",
       "    }\n",
       "</style>\n",
       "<table border=\"1\" class=\"dataframe\">\n",
       "  <thead>\n",
       "    <tr style=\"text-align: right;\">\n",
       "      <th></th>\n",
       "      <th>pintu_masuk</th>\n",
       "      <th>SUM_SMT1</th>\n",
       "      <th>SUM_SMT2</th>\n",
       "      <th>CLUSTER</th>\n",
       "    </tr>\n",
       "  </thead>\n",
       "  <tbody>\n",
       "    <tr>\n",
       "      <th>0</th>\n",
       "      <td>Soekarno-Hatta</td>\n",
       "      <td>1136150</td>\n",
       "      <td>1110287</td>\n",
       "      <td>0</td>\n",
       "    </tr>\n",
       "    <tr>\n",
       "      <th>1</th>\n",
       "      <td>Ngurah Rai</td>\n",
       "      <td>1710014</td>\n",
       "      <td>2021721</td>\n",
       "      <td>0</td>\n",
       "    </tr>\n",
       "    <tr>\n",
       "      <th>3</th>\n",
       "      <td>Batam</td>\n",
       "      <td>705988</td>\n",
       "      <td>748092</td>\n",
       "      <td>0</td>\n",
       "    </tr>\n",
       "    <tr>\n",
       "      <th>17</th>\n",
       "      <td>Tanjung Uban</td>\n",
       "      <td>158186</td>\n",
       "      <td>162675</td>\n",
       "      <td>1</td>\n",
       "    </tr>\n",
       "    <tr>\n",
       "      <th>16</th>\n",
       "      <td>Husein Sastranegara</td>\n",
       "      <td>97257</td>\n",
       "      <td>83135</td>\n",
       "      <td>1</td>\n",
       "    </tr>\n",
       "    <tr>\n",
       "      <th>15</th>\n",
       "      <td>Adisucipto</td>\n",
       "      <td>46530</td>\n",
       "      <td>42626</td>\n",
       "      <td>1</td>\n",
       "    </tr>\n",
       "    <tr>\n",
       "      <th>14</th>\n",
       "      <td>Sultan Syarif Kasim II</td>\n",
       "      <td>13302</td>\n",
       "      <td>14080</td>\n",
       "      <td>1</td>\n",
       "    </tr>\n",
       "    <tr>\n",
       "      <th>13</th>\n",
       "      <td>Sepinggan</td>\n",
       "      <td>6901</td>\n",
       "      <td>6255</td>\n",
       "      <td>1</td>\n",
       "    </tr>\n",
       "    <tr>\n",
       "      <th>12</th>\n",
       "      <td>Makasar</td>\n",
       "      <td>7578</td>\n",
       "      <td>8135</td>\n",
       "      <td>1</td>\n",
       "    </tr>\n",
       "    <tr>\n",
       "      <th>11</th>\n",
       "      <td>Bandara Int. Lombok</td>\n",
       "      <td>33937</td>\n",
       "      <td>35944</td>\n",
       "      <td>1</td>\n",
       "    </tr>\n",
       "    <tr>\n",
       "      <th>9</th>\n",
       "      <td>Tanjung Priok</td>\n",
       "      <td>34798</td>\n",
       "      <td>30143</td>\n",
       "      <td>1</td>\n",
       "    </tr>\n",
       "    <tr>\n",
       "      <th>18</th>\n",
       "      <td>Balai Karimun</td>\n",
       "      <td>52088</td>\n",
       "      <td>48694</td>\n",
       "      <td>1</td>\n",
       "    </tr>\n",
       "    <tr>\n",
       "      <th>8</th>\n",
       "      <td>Minangkabau</td>\n",
       "      <td>24981</td>\n",
       "      <td>25215</td>\n",
       "      <td>1</td>\n",
       "    </tr>\n",
       "    <tr>\n",
       "      <th>7</th>\n",
       "      <td>Adi Sumarmo</td>\n",
       "      <td>6454</td>\n",
       "      <td>6457</td>\n",
       "      <td>1</td>\n",
       "    </tr>\n",
       "    <tr>\n",
       "      <th>6</th>\n",
       "      <td>Entikong</td>\n",
       "      <td>9761</td>\n",
       "      <td>12703</td>\n",
       "      <td>1</td>\n",
       "    </tr>\n",
       "    <tr>\n",
       "      <th>5</th>\n",
       "      <td>Juanda</td>\n",
       "      <td>110251</td>\n",
       "      <td>106942</td>\n",
       "      <td>1</td>\n",
       "    </tr>\n",
       "    <tr>\n",
       "      <th>4</th>\n",
       "      <td>Sam Ratulangi</td>\n",
       "      <td>8044</td>\n",
       "      <td>9235</td>\n",
       "      <td>1</td>\n",
       "    </tr>\n",
       "    <tr>\n",
       "      <th>2</th>\n",
       "      <td>Kualanamu Int'.</td>\n",
       "      <td>110415</td>\n",
       "      <td>124309</td>\n",
       "      <td>1</td>\n",
       "    </tr>\n",
       "    <tr>\n",
       "      <th>10</th>\n",
       "      <td>Tanjung Pinang</td>\n",
       "      <td>49466</td>\n",
       "      <td>48206</td>\n",
       "      <td>1</td>\n",
       "    </tr>\n",
       "    <tr>\n",
       "      <th>19</th>\n",
       "      <td>Pintu Lainnya</td>\n",
       "      <td>229421</td>\n",
       "      <td>239005</td>\n",
       "      <td>1</td>\n",
       "    </tr>\n",
       "  </tbody>\n",
       "</table>\n",
       "</div>"
      ],
      "text/plain": [
       "               pintu_masuk  SUM_SMT1  SUM_SMT2  CLUSTER\n",
       "0           Soekarno-Hatta   1136150   1110287        0\n",
       "1               Ngurah Rai   1710014   2021721        0\n",
       "3                    Batam    705988    748092        0\n",
       "17            Tanjung Uban    158186    162675        1\n",
       "16     Husein Sastranegara     97257     83135        1\n",
       "15              Adisucipto     46530     42626        1\n",
       "14  Sultan Syarif Kasim II     13302     14080        1\n",
       "13               Sepinggan      6901      6255        1\n",
       "12                 Makasar      7578      8135        1\n",
       "11     Bandara Int. Lombok     33937     35944        1\n",
       "9            Tanjung Priok     34798     30143        1\n",
       "18           Balai Karimun     52088     48694        1\n",
       "8              Minangkabau     24981     25215        1\n",
       "7              Adi Sumarmo      6454      6457        1\n",
       "6                 Entikong      9761     12703        1\n",
       "5                   Juanda    110251    106942        1\n",
       "4            Sam Ratulangi      8044      9235        1\n",
       "2          Kualanamu Int'.    110415    124309        1\n",
       "10          Tanjung Pinang     49466     48206        1\n",
       "19           Pintu Lainnya    229421    239005        1"
      ]
     },
     "execution_count": 34,
     "metadata": {},
     "output_type": "execute_result"
    }
   ],
   "source": [
    "pd.concat([df_data['pintu_masuk'], agglo_clustered], axis = 1).sort_values(by = 'CLUSTER')"
   ]
  },
  {
   "cell_type": "markdown",
   "metadata": {},
   "source": [
    "> Melihat hasil yang di lakukan dengan menggunakan metode **Hierarchical Clustering** / **Agglomerative Clustering** ini. Kita dapat menyimpulkan insight yang kurang lebih mirip dengan metode **K-Means Clustering** sebelumnya, hanya bedanya pintu masuk *Ngurah Rai* dijadikan satu cluster dengan *Soekarno-Hatta* dan *Batam*."
   ]
  },
  {
   "cell_type": "markdown",
   "metadata": {},
   "source": [
    "## MODEL EVALUATION"
   ]
  },
  {
   "cell_type": "code",
   "execution_count": 35,
   "metadata": {
    "colab": {},
    "colab_type": "code",
    "id": "L-6l4bfOwrS9"
   },
   "outputs": [],
   "source": [
    "# Menghitung Dunn's index \n",
    "# Mengingat tidak ada function Dunn's Index dalam sklearn, kita gunakan alternatif lain yaitu DB Index. \n",
    "# Silakan baca referensi berikut"
   ]
  },
  {
   "cell_type": "markdown",
   "metadata": {
    "colab_type": "text",
    "id": "HipA5L_AwrTC"
   },
   "source": [
    "Referensi: https://www.geeksforgeeks.org/dunn-index-and-db-index-cluster-validity-indices-set-1/ "
   ]
  },
  {
   "cell_type": "code",
   "execution_count": 36,
   "metadata": {
    "colab": {},
    "colab_type": "code",
    "id": "2S8RezgSwrTC"
   },
   "outputs": [],
   "source": [
    "# Namun ketika dicoba, package sklearn mesti dinaikkan versinya menjadi versi 0.21.2\n",
    "# Alternatif lain, kita bisa melakukan pembuatan function seperti pada referensi berikut ini: "
   ]
  },
  {
   "cell_type": "markdown",
   "metadata": {
    "colab_type": "text",
    "id": "OzITN0GKwrTG"
   },
   "source": [
    "Referensi: https://gist.github.com/douglasrizzo/cd7e792ff3a2dcaf27f6"
   ]
  },
  {
   "cell_type": "markdown",
   "metadata": {},
   "source": [
    "> Langkah terakhir mengevaluasi dengan menggunakan Similarity Matrix dan Davies Bouldin Index."
   ]
  },
  {
   "cell_type": "code",
   "execution_count": 37,
   "metadata": {
    "colab": {},
    "colab_type": "code",
    "id": "__MGWaeVwrS2"
   },
   "outputs": [
    {
     "data": {
      "image/png": "[encoded data removed]",
      "text/plain": [
       "<Figure size 720x432 with 1 Axes>"
      ]
     },
     "metadata": {},
     "output_type": "display_data"
    }
   ],
   "source": [
    "# Membuat similarity Matrix untuk Kmeans\n",
    "\n",
    "dist = cdist(kmean_clustered.iloc[:,0:2],kmean_clustered.iloc[:,0:2], metric='euclidean')\n",
    "plt.figure(figsize = (10,6))\n",
    "plt.imshow(dist)\n",
    "plt.show()"
   ]
  },
  {
   "cell_type": "code",
   "execution_count": 38,
   "metadata": {},
   "outputs": [
    {
     "data": {
      "image/png": "[encoded data removed]",
      "text/plain": [
       "<Figure size 720x432 with 1 Axes>"
      ]
     },
     "metadata": {},
     "output_type": "display_data"
    }
   ],
   "source": [
    "# Membuat similarity Matrix untuk Hierarchical\n",
    "\n",
    "dist = cdist(agglo_clustered.iloc[:,0:2],agglo_clustered.iloc[:,0:2], metric='euclidean')\n",
    "plt.figure(figsize = (10,6))\n",
    "plt.imshow(dist)\n",
    "plt.show()"
   ]
  },
  {
   "cell_type": "code",
   "execution_count": 39,
   "metadata": {},
   "outputs": [
    {
     "name": "stdout",
     "output_type": "stream",
     "text": [
      "K-MEANS Davies Bouldin Score : 0.26033204614213545\n",
      "HIERARCHICAL Davies Bouldin Score : 0.4033364447327529\n"
     ]
    }
   ],
   "source": [
    "# K-Means \n",
    "kmeans = KMeans(n_clusters=3).fit(X) \n",
    "\n",
    "# Hierarchical\n",
    "hierar = AgglomerativeClustering(n_clusters=2, affinity='euclidean', linkage='ward').fit(X) \n",
    "\n",
    "# Menyimpan label\n",
    "\n",
    "km_labels = davies_bouldin_score(X, kmeans.labels_)\n",
    "hc_labels = davies_bouldin_score(X, hierar.labels_)\n",
    "\n",
    "print(f'K-MEANS Davies Bouldin Score : {km_labels}') \n",
    "print(f'HIERARCHICAL Davies Bouldin Score : {hc_labels}') "
   ]
  },
  {
   "cell_type": "markdown",
   "metadata": {},
   "source": [
    "> Indeks validitas Davies-Bouldin (DB) menghitung rata-rata nilai setiap titik pada himpunan data. Perhitungan nilai setiap titik adalah jumlah nilai compactness yang dibagi dengan jarak antara kedua titik pusat klaster sebagai separation. Jumlah cluster terbaik ditunjukkan dengan nilai DB yang semakin kecil, sehingga dalam hal ini metode **K-Means Clustering** lebih baik jika di bandingkan dengan metode **Hierarchical / Agglomerative Clustering**."
   ]
  }
 ],
 "metadata": {
  "colab": {
   "name": "Copy of Clustering Homework - Data MBA Batch 3.ipynb",
   "provenance": []
  },
  "kernelspec": {
   "display_name": "Python 3",
   "language": "python",
   "name": "python3"
  },
  "language_info": {
   "codemirror_mode": {
    "name": "ipython",
    "version": 3
   },
   "file_extension": ".py",
   "mimetype": "text/x-python",
   "name": "python",
   "nbconvert_exporter": "python",
   "pygments_lexer": "ipython3",
   "version": "3.8.3"
  }
 },
 "nbformat": 4,
 "nbformat_minor": 4
}
